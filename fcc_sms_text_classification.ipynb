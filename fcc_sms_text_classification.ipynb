{
  "cells": [
    {
      "cell_type": "code",
      "execution_count": null,
      "metadata": {
        "id": "8RZOuS9LWQvv"
      },
      "outputs": [],
      "source": [
        "try:\n",
        "    # %tensorflow_version only exists in Colab.\n",
        "    !pip install tf-nightly\n",
        "except Exception:\n",
        "    pass\n",
        "import tensorflow as tf\n",
        "import pandas as pd\n",
        "from tensorflow import keras\n",
        "!pip install tensorflow-datasets\n",
        "import tensorflow_datasets as tfds\n",
        "import numpy as np\n",
        "import matplotlib.pyplot as plt\n",
        "\n",
        "print(tf.__version__)\n"
      ]
    },
    {
      "cell_type": "code",
      "execution_count": null,
      "metadata": {
        "id": "lMHwYXHXCar3"
      },
      "outputs": [],
      "source": [
        "!wget https://cdn.freecodecamp.org/project-data/sms/train-data.tsv\n",
        "!wget https://cdn.freecodecamp.org/project-data/sms/valid-data.tsv\n",
        "\n",
        "train_file_path = \"train-data.tsv\"\n",
        "test_file_path = \"valid-data.tsv\"\n"
      ]
    },
    {
      "cell_type": "code",
      "execution_count": null,
      "metadata": {
        "id": "g_h508FEClxO"
      },
      "outputs": [],
      "source": [
        "def preprocess_data(file_path):\n",
        "    data = pd.read_csv(file_path, sep=\"\\t\", header=None, names=[\"label\", \"message\"])\n",
        "    data['label'] = data['label'].map({'ham': 0, 'spam': 1})\n",
        "    return data\n",
        "\n",
        "# Load and preprocess the data\n",
        "train_data = preprocess_data(train_file_path)\n",
        "test_data = preprocess_data(test_file_path)\n",
        "\n",
        "# Tokenization and Vectorization\n",
        "from tensorflow.keras.preprocessing.text import Tokenizer\n",
        "from tensorflow.keras.preprocessing.sequence import pad_sequences\n",
        "\n",
        "max_len = 200\n",
        "tokenizer = Tokenizer()\n",
        "tokenizer.fit_on_texts(train_data['message'])\n",
        "train_sequences = tokenizer.texts_to_sequences(train_data['message'])\n",
        "train_padded = pad_sequences(train_sequences, padding='post', maxlen=max_len)\n",
        "\n",
        "test_sequences = tokenizer.texts_to_sequences(test_data['message'])\n",
        "test_padded = pad_sequences(test_sequences, padding='post', maxlen=max_len)\n",
        "\n",
        "# Build the model\n",
        "model = keras.Sequential([\n",
        "    keras.layers.Embedding(input_dim=len(tokenizer.word_index) + 1, output_dim=64, input_length=max_len),\n",
        "    keras.layers.GlobalAveragePooling1D(),\n",
        "    keras.layers.Dense(64, activation='relu'),\n",
        "    keras.layers.Dense(1, activation='sigmoid')\n",
        "])\n",
        "\n",
        "model.compile(loss='binary_crossentropy', optimizer='adam', metrics=['accuracy'])\n",
        "\n",
        "# Train the model\n",
        "history = model.fit(train_padded, train_data['label'], epochs=5, validation_data=(test_padded, test_data['label']))\n",
        "\n",
        "# Function to predict message and return likelihood and label\n",
        "def predict_message(pred_text):\n",
        "    pred_seq = tokenizer.texts_to_sequences([pred_text])\n",
        "    pred_padded = pad_sequences(pred_seq, padding='post', maxlen=max_len)\n",
        "    prediction_prob = model.predict(pred_padded)\n",
        "\n",
        "    # Return probability and label\n",
        "    if prediction_prob[0] < 0.5:\n",
        "        return [float(1 - prediction_prob[0]), 'ham']\n",
        "    else:\n",
        "        return [float(prediction_prob[0]), 'spam']\n",
        "\n",
        "# Example prediction\n",
        "pred_text = \"how are you doing today?\"\n",
        "prediction = predict_message(pred_text)\n",
        "print(prediction)\n"
      ]
    },
    {
      "cell_type": "code",
      "execution_count": null,
      "metadata": {
        "id": "zOMKywn4zReN"
      },
      "outputs": [],
      "source": [
        "def test_predictions():\n",
        "    test_messages = [\"how are you doing today\",\n",
        "                     \"sale today! to stop texts call 98912460324\",\n",
        "                     \"i dont want to go. can we try it a different day? available sat\",\n",
        "                     \"our new mobile video service is live. just install on your phone to start watching.\",\n",
        "                     \"you have won £1000 cash! call to claim your prize.\",\n",
        "                     \"i'll bring it tomorrow. don't forget the milk.\",\n",
        "                     \"wow, is your arm alright. that happened to me one time too\"\n",
        "                    ]\n",
        "\n",
        "    test_answers = [\"ham\", \"spam\", \"ham\", \"spam\", \"spam\", \"ham\", \"ham\"]\n",
        "    passed = True\n",
        "\n",
        "    for msg, ans in zip(test_messages, test_answers):\n",
        "        prediction = predict_message(msg)\n",
        "        if prediction[1] != ans:\n",
        "            passed = False\n",
        "\n",
        "    if passed:\n",
        "        print(\"You passed the challenge. Great job!\")\n",
        "    else:\n",
        "        print(\"You haven't passed yet. Keep trying.\")\n",
        "\n",
        "test_predictions()\n"
      ]
    },
    {
      "cell_type": "code",
      "execution_count": null,
      "metadata": {
        "id": "J9tD9yACG6M9"
      },
      "outputs": [],
      "source": []
    },
    {
      "cell_type": "code",
      "execution_count": null,
      "metadata": {
        "id": "Dxotov85SjsC"
      },
      "outputs": [],
      "source": []
    }
  ],
  "metadata": {
    "colab": {
      "name": "fcc_sms_text_classification.ipynb",
      "private_outputs": true,
      "provenance": [],
      "toc_visible": true
    },
    "kernelspec": {
      "display_name": "Python 3",
      "name": "python3"
    },
    "language_info": {}
  },
  "nbformat": 4,
  "nbformat_minor": 0
}